{
  "nbformat": 4,
  "nbformat_minor": 0,
  "metadata": {
    "colab": {
      "provenance": []
    },
    "kernelspec": {
      "name": "python3",
      "display_name": "Python 3"
    },
    "language_info": {
      "name": "python"
    }
  },
  "cells": [
    {
      "cell_type": "markdown",
      "source": [
        "Cosine Similarity"
      ],
      "metadata": {
        "id": "p-VOQ07fTcU0"
      }
    },
    {
      "cell_type": "code",
      "execution_count": 1,
      "metadata": {
        "id": "Vp__U7xQ02Wl"
      },
      "outputs": [],
      "source": [
        "import pandas as pd\n",
        "import numpy as np\n",
        "from sklearn.feature_extraction.text import TfidfVectorizer\n",
        "from sklearn.metrics.pairwise import cosine_similarity\n",
        "from sklearn.neighbors import NearestNeighbors\n",
        "from scipy.sparse import csr_matrix\n",
        "import re"
      ]
    },
    {
      "cell_type": "code",
      "source": [
        "# Load and prepare dataset\n",
        "movies_df = pd.read_csv('/content/movies.csv')\n",
        "ratings_df = pd.read_csv('/content/ratings.csv')"
      ],
      "metadata": {
        "id": "xfLrpKuB1HKM"
      },
      "execution_count": 2,
      "outputs": []
    },
    {
      "cell_type": "code",
      "source": [
        "movies_df.isna().sum()"
      ],
      "metadata": {
        "colab": {
          "base_uri": "https://localhost:8080/",
          "height": 241
        },
        "id": "HTGAb8XJsRgl",
        "outputId": "96f92c3f-a069-403c-90ca-853176208582"
      },
      "execution_count": 19,
      "outputs": [
        {
          "output_type": "execute_result",
          "data": {
            "text/plain": [
              "movieId        0\n",
              "title          0\n",
              "genres         0\n",
              "genres_list    0\n",
              "clean_title    0\n",
              "dtype: int64"
            ],
            "text/html": [
              "<div>\n",
              "<style scoped>\n",
              "    .dataframe tbody tr th:only-of-type {\n",
              "        vertical-align: middle;\n",
              "    }\n",
              "\n",
              "    .dataframe tbody tr th {\n",
              "        vertical-align: top;\n",
              "    }\n",
              "\n",
              "    .dataframe thead th {\n",
              "        text-align: right;\n",
              "    }\n",
              "</style>\n",
              "<table border=\"1\" class=\"dataframe\">\n",
              "  <thead>\n",
              "    <tr style=\"text-align: right;\">\n",
              "      <th></th>\n",
              "      <th>0</th>\n",
              "    </tr>\n",
              "  </thead>\n",
              "  <tbody>\n",
              "    <tr>\n",
              "      <th>movieId</th>\n",
              "      <td>0</td>\n",
              "    </tr>\n",
              "    <tr>\n",
              "      <th>title</th>\n",
              "      <td>0</td>\n",
              "    </tr>\n",
              "    <tr>\n",
              "      <th>genres</th>\n",
              "      <td>0</td>\n",
              "    </tr>\n",
              "    <tr>\n",
              "      <th>genres_list</th>\n",
              "      <td>0</td>\n",
              "    </tr>\n",
              "    <tr>\n",
              "      <th>clean_title</th>\n",
              "      <td>0</td>\n",
              "    </tr>\n",
              "  </tbody>\n",
              "</table>\n",
              "</div><br><label><b>dtype:</b> int64</label>"
            ]
          },
          "metadata": {},
          "execution_count": 19
        }
      ]
    },
    {
      "cell_type": "code",
      "source": [
        "ratings_df.isna().sum()"
      ],
      "metadata": {
        "colab": {
          "base_uri": "https://localhost:8080/",
          "height": 178
        },
        "id": "2XPkny3JsXsL",
        "outputId": "132f4efe-ccb7-4c38-e4fa-4b897b3a20a1"
      },
      "execution_count": 20,
      "outputs": [
        {
          "output_type": "execute_result",
          "data": {
            "text/plain": [
              "userId     0\n",
              "movieId    0\n",
              "rating     0\n",
              "dtype: int64"
            ],
            "text/html": [
              "<div>\n",
              "<style scoped>\n",
              "    .dataframe tbody tr th:only-of-type {\n",
              "        vertical-align: middle;\n",
              "    }\n",
              "\n",
              "    .dataframe tbody tr th {\n",
              "        vertical-align: top;\n",
              "    }\n",
              "\n",
              "    .dataframe thead th {\n",
              "        text-align: right;\n",
              "    }\n",
              "</style>\n",
              "<table border=\"1\" class=\"dataframe\">\n",
              "  <thead>\n",
              "    <tr style=\"text-align: right;\">\n",
              "      <th></th>\n",
              "      <th>0</th>\n",
              "    </tr>\n",
              "  </thead>\n",
              "  <tbody>\n",
              "    <tr>\n",
              "      <th>userId</th>\n",
              "      <td>0</td>\n",
              "    </tr>\n",
              "    <tr>\n",
              "      <th>movieId</th>\n",
              "      <td>0</td>\n",
              "    </tr>\n",
              "    <tr>\n",
              "      <th>rating</th>\n",
              "      <td>0</td>\n",
              "    </tr>\n",
              "  </tbody>\n",
              "</table>\n",
              "</div><br><label><b>dtype:</b> int64</label>"
            ]
          },
          "metadata": {},
          "execution_count": 20
        }
      ]
    },
    {
      "cell_type": "code",
      "source": [
        "# Data Cleaning\n",
        "def clean_title(title):\n",
        "    return re.sub(\"[^a-zA-Z0-9 ]\", \"\", title)"
      ],
      "metadata": {
        "id": "GnHKfkaB1PCk"
      },
      "execution_count": 3,
      "outputs": []
    },
    {
      "cell_type": "code",
      "source": [
        "movies_df['genres_list'] = movies_df['genres'].str.replace('|', ' ')\n",
        "movies_df['clean_title'] = movies_df['title'].apply(clean_title)"
      ],
      "metadata": {
        "id": "zaHkqtIT1aJd"
      },
      "execution_count": 4,
      "outputs": []
    },
    {
      "cell_type": "code",
      "source": [
        "# Selecting necessary columns for the recommendation\n",
        "movies_filtered_df = movies_df[['movieId', 'clean_title', 'genres_list']]\n",
        "ratings_df.drop(['timestamp'], axis=1, inplace=True)"
      ],
      "metadata": {
        "id": "xcvnyz4D5NvU"
      },
      "execution_count": 5,
      "outputs": []
    },
    {
      "cell_type": "code",
      "source": [
        "# Merging movies and ratings data\n",
        "combined_data = ratings_df.merge(movies_filtered_df, on='movieId')\n",
        "print(\"Combined Data:\")\n",
        "print(combined_data.head())"
      ],
      "metadata": {
        "colab": {
          "base_uri": "https://localhost:8080/"
        },
        "id": "kzDQ3V8x5Ob5",
        "outputId": "d4e9fc4d-937f-4aab-b063-f317a77e01af"
      },
      "execution_count": 6,
      "outputs": [
        {
          "output_type": "stream",
          "name": "stdout",
          "text": [
            "Combined Data:\n",
            "   userId  movieId  rating                                 clean_title  \\\n",
            "0       1      296     5.0                           Pulp Fiction 1994   \n",
            "1       1      306     3.5  Three Colors Red Trois couleurs Rouge 1994   \n",
            "2       1      307     5.0  Three Colors Blue Trois couleurs Bleu 1993   \n",
            "3       1      665     5.0                            Underground 1995   \n",
            "4       1      899     3.5                     Singin in the Rain 1952   \n",
            "\n",
            "                   genres_list  \n",
            "0  Comedy Crime Drama Thriller  \n",
            "1                        Drama  \n",
            "2                        Drama  \n",
            "3             Comedy Drama War  \n",
            "4       Comedy Musical Romance  \n"
          ]
        }
      ]
    },
    {
      "cell_type": "code",
      "source": [
        "# Cosine Similarity based on Titles\n",
        "title_vectorizer = TfidfVectorizer(ngram_range=(1, 2))\n",
        "tfidf_title_matrix = title_vectorizer.fit_transform(movies_filtered_df['clean_title'])"
      ],
      "metadata": {
        "id": "A8EBWo7Q5Rot"
      },
      "execution_count": 7,
      "outputs": []
    },
    {
      "cell_type": "code",
      "source": [
        "# Cosine Similarity based on Genres\n",
        "genres_vectorizer = TfidfVectorizer(ngram_range=(1, 2))\n",
        "tfidf_genres_matrix = genres_vectorizer.fit_transform(movies_filtered_df['genres_list'])\n"
      ],
      "metadata": {
        "id": "CExRSw5U5UNJ"
      },
      "execution_count": 8,
      "outputs": []
    },
    {
      "cell_type": "code",
      "source": [
        "# Function to search by title using Cosine Similarity\n",
        "def search_by_title(title):\n",
        "    title = clean_title(title)\n",
        "    query_vec = title_vectorizer.transform([title])\n",
        "    similarity = cosine_similarity(query_vec, tfidf_title_matrix).flatten()\n",
        "    indices = np.argpartition(similarity, -5)[-5:]\n",
        "    results = movies_filtered_df.iloc[indices][::-1]\n",
        "    return results"
      ],
      "metadata": {
        "id": "ghk6gd9447Kx"
      },
      "execution_count": 9,
      "outputs": []
    },
    {
      "cell_type": "code",
      "source": [
        "# Function to search by genre similarity\n",
        "def search_similar_genres(genres):\n",
        "    query_vec = genres_vectorizer.transform([genres])\n",
        "    similarity = cosine_similarity(query_vec, tfidf_genres_matrix).flatten()\n",
        "    indices = np.argpartition(similarity, -10)[-10:]\n",
        "    results = movies_filtered_df.iloc[indices][::-1]\n",
        "    return results"
      ],
      "metadata": {
        "id": "yykzDtCp1vcv"
      },
      "execution_count": 10,
      "outputs": []
    },
    {
      "cell_type": "code",
      "source": [
        "def scores_calculator(movie_id):\n",
        "    similar_users = combined_data[(combined_data['movieId'] == movie_id) & (combined_data['rating'] >= 4)]['userId'].unique()\n",
        "    similar_user_recs = combined_data[(combined_data['userId'].isin(similar_users)) & (combined_data['rating'] >= 4)]['movieId']\n",
        "    similar_user_recs = similar_user_recs.value_counts() / len(similar_users)\n",
        "\n",
        "    all_users = combined_data[(combined_data['movieId'].isin(similar_user_recs.index)) & (combined_data['rating'] >= 4)]\n",
        "    all_users_recs = all_users['movieId'].value_counts() / all_users['userId'].nunique()\n",
        "\n",
        "    genres_of_selected_movie = combined_data[combined_data['movieId'] == movie_id]['genres_list'].unique()\n",
        "    genres_of_selected_movie = np.array2string(genres_of_selected_movie)\n",
        "    movies_with_similar_genres = search_similar_genres(genres_of_selected_movie)\n",
        "\n",
        "    indices = movies_with_similar_genres[movies_with_similar_genres['movieId'].isin(similar_user_recs.index)]['movieId']\n",
        "    similar_user_recs.loc[indices] *= 1.5\n",
        "\n",
        "    indices = movies_with_similar_genres[movies_with_similar_genres['movieId'].isin(all_users_recs.index)]['movieId']\n",
        "    all_users_recs.loc[indices] *= 0.9\n",
        "\n",
        "    rec_percentages = pd.concat([similar_user_recs, all_users_recs], axis=1)\n",
        "    rec_percentages.columns = ['similar', 'all']\n",
        "    rec_percentages['score'] = rec_percentages['similar'] / rec_percentages['all']\n",
        "\n",
        "    rec_percentages = rec_percentages.sort_values('score', ascending=False)\n",
        "    return rec_percentages"
      ],
      "metadata": {
        "id": "yZahGldx10NB"
      },
      "execution_count": 11,
      "outputs": []
    },
    {
      "cell_type": "code",
      "source": [
        "# Final recommendation function\n",
        "def recommendation_results(user_input, title=0):\n",
        "    title_candidates = search_by_title(user_input)\n",
        "    movie_id = title_candidates.iloc[title]['movieId']\n",
        "    scores = scores_calculator(movie_id)\n",
        "    results = scores.head(10).merge(movies_filtered_df, left_index=True, right_on='movieId')[['clean_title', 'score', 'genres_list']]\n",
        "    results.rename(columns={'clean_title': 'title', 'genres_list': 'genres'}, inplace=True)\n",
        "    return results\n",
        "\n",
        "# Display user options for title search\n",
        "user_input = \"Toy Story\"\n",
        "print(\"Are you looking for (please choose a number): \")\n",
        "for i in range(5):\n",
        "    print(i, \": \", search_by_title(user_input)['clean_title'].iloc[i])\n",
        "\n",
        "# User selects a title\n",
        "title_choice = 0\n",
        "if title_choice in range(5):\n",
        "    print(\"We have the following recommendations: \")\n",
        "    print(recommendation_results(user_input, title_choice))\n",
        "else:\n",
        "    print(\"Sorry! please try again!\")"
      ],
      "metadata": {
        "colab": {
          "base_uri": "https://localhost:8080/"
        },
        "id": "Of-WcdkE128i",
        "outputId": "7c7f682a-bde6-4756-a09c-d5c5037dd1fb"
      },
      "execution_count": 12,
      "outputs": [
        {
          "output_type": "stream",
          "name": "stdout",
          "text": [
            "Are you looking for (please choose a number): \n",
            "0 :  Toy Story 2 1999\n",
            "1 :  Toy Story 3 2010\n",
            "2 :  Toy Story 1995\n",
            "3 :  Toy Story 4 2019\n",
            "4 :  Toy Story of Terror 2013\n",
            "We have the following recommendations: \n",
            "                                        title      score  \\\n",
            "22633  Toy Story Toons Hawaiian Vacation 2011  15.455353   \n",
            "22634          Toy Story Toons Small Fry 2011  14.043053   \n",
            "22286                            Aladdin 1992  12.390929   \n",
            "7144            Hangin with the Homeboys 1991   9.912743   \n",
            "13140                       Frontrunners 2008   9.912743   \n",
            "14093                   My Sister Eileen 1942   9.912743   \n",
            "3021                         Toy Story 2 1999   9.912743   \n",
            "29142                   The Killing Kind 1973   9.912743   \n",
            "27828                      HalfBreed The 1916   9.912743   \n",
            "27968                         The Corpse 1970   9.912743   \n",
            "\n",
            "                                            genres  \n",
            "22633  Adventure Animation Children Comedy Fantasy  \n",
            "22634  Adventure Animation Children Comedy Fantasy  \n",
            "22286  Adventure Animation Children Comedy Fantasy  \n",
            "7144                                  Comedy Drama  \n",
            "13140                                  Documentary  \n",
            "14093                                       Comedy  \n",
            "3021   Adventure Animation Children Comedy Fantasy  \n",
            "29142                                       Horror  \n",
            "27828                                Drama Western  \n",
            "27968                              Horror Thriller  \n"
          ]
        }
      ]
    },
    {
      "cell_type": "markdown",
      "source": [
        "K nearest neighbor"
      ],
      "metadata": {
        "id": "Os2PhyD46CU-"
      }
    },
    {
      "cell_type": "code",
      "source": [
        "# KNN-based Recommendations using User-Item Matrix\n",
        "# Adding rating count per movie title for filtering\n",
        "user_movie_ratings = combined_data.groupby('clean_title')['rating'].count().reset_index().rename(columns={'rating': 'rating_count'})\n",
        "popular_movies_df = combined_data.merge(user_movie_ratings, on='clean_title', how='left')\n",
        "print(f\"10% of count= {popular_movies_df.rating_count.quantile(.1)}\")\n",
        "print(f\"25% of count= {popular_movies_df.rating_count.quantile(.25)}\")\n",
        "print(f\"50% of count= {popular_movies_df.rating_count.quantile(.5)}\")\n",
        "print(f\"75% of count= {popular_movies_df.rating_count.quantile(.75)}\")\n",
        "print(f\"85% of count= {popular_movies_df.rating_count.quantile(.85)}\")\n",
        "print(f\"100% of count= {popular_movies_df.rating_count.quantile(1)}\")"
      ],
      "metadata": {
        "id": "UwT0-VvK3VpC",
        "colab": {
          "base_uri": "https://localhost:8080/"
        },
        "outputId": "9b0277f2-5b39-48d8-caa5-e66aeb461ba7"
      },
      "execution_count": 13,
      "outputs": [
        {
          "output_type": "stream",
          "name": "stdout",
          "text": [
            "10% of count= 825.0\n",
            "25% of count= 2986.0\n",
            "50% of count= 9152.0\n",
            "75% of count= 20757.0\n",
            "85% of count= 30910.0\n",
            "100% of count= 81491.0\n"
          ]
        }
      ]
    },
    {
      "cell_type": "code",
      "source": [
        "# Filtering movies with rating count threshold\n",
        "popular_movies_df = popular_movies_df[popular_movies_df['rating_count'] >= 10000]\n",
        "print(\"Popular Movies DataFrame Shape:\", popular_movies_df.shape)\n"
      ],
      "metadata": {
        "id": "ERfaF0Or6D33",
        "colab": {
          "base_uri": "https://localhost:8080/"
        },
        "outputId": "ed9f7d72-59dc-44a1-e3b7-0ee14499641f"
      },
      "execution_count": 14,
      "outputs": [
        {
          "output_type": "stream",
          "name": "stdout",
          "text": [
            "Popular Movies DataFrame Shape: (11878413, 6)\n"
          ]
        }
      ]
    },
    {
      "cell_type": "code",
      "source": [
        "# Creating a pivot table for the KNN algorithm\n",
        "movie_user_matrix = popular_movies_df.pivot_table(index='clean_title', columns='userId', values='rating').fillna(0)\n",
        "print(\"Movie-User Pivot Table:\")\n",
        "print(movie_user_matrix.head())"
      ],
      "metadata": {
        "id": "cR8SeGoD6N83",
        "colab": {
          "base_uri": "https://localhost:8080/"
        },
        "outputId": "b399ebdc-fb62-487f-8178-fc1bba85527a"
      },
      "execution_count": 15,
      "outputs": [
        {
          "output_type": "stream",
          "name": "stdout",
          "text": [
            "Movie-User Pivot Table:\n",
            "userId                           1       2       3       4       5       \\\n",
            "clean_title                                                               \n",
            "10 Things I Hate About You 1999     0.0     0.0     0.0     0.0     0.0   \n",
            "12 Angry Men 1957                   0.0     0.0     0.0     0.0     0.0   \n",
            "2001 A Space Odyssey 1968           0.0     0.0     5.0     4.0     0.0   \n",
            "28 Days Later 2002                  0.0     0.0     3.0     0.0     0.0   \n",
            "300 2007                            0.0     0.0     4.0     0.0     0.0   \n",
            "\n",
            "userId                           6       7       8       9       10      ...  \\\n",
            "clean_title                                                              ...   \n",
            "10 Things I Hate About You 1999     0.0     0.0     0.0     0.0     3.0  ...   \n",
            "12 Angry Men 1957                   5.0     0.0     4.0     0.0     0.0  ...   \n",
            "2001 A Space Odyssey 1968           4.0     0.0     5.0     3.0     4.5  ...   \n",
            "28 Days Later 2002                  0.0     0.0     0.0     0.0     4.5  ...   \n",
            "300 2007                            0.0     0.0     0.0     0.0     0.0  ...   \n",
            "\n",
            "userId                           162532  162533  162534  162535  162536  \\\n",
            "clean_title                                                               \n",
            "10 Things I Hate About You 1999     0.0     2.5     0.0     0.0     0.0   \n",
            "12 Angry Men 1957                   0.0     0.0     4.5     0.0     0.0   \n",
            "2001 A Space Odyssey 1968           0.0     0.0     5.0     0.0     0.0   \n",
            "28 Days Later 2002                  0.0     3.5     0.0     0.0     0.0   \n",
            "300 2007                            0.0     3.5     3.0     0.0     3.5   \n",
            "\n",
            "userId                           162537  162538  162539  162540  162541  \n",
            "clean_title                                                              \n",
            "10 Things I Hate About You 1999     0.0     4.5     0.0     0.0     0.0  \n",
            "12 Angry Men 1957                   0.0     0.0     0.0     0.0     0.0  \n",
            "2001 A Space Odyssey 1968           0.0     0.0     0.0     0.0     3.0  \n",
            "28 Days Later 2002                  0.0     0.0     0.0     0.0     0.0  \n",
            "300 2007                            0.0     0.0     0.0     0.0     0.0  \n",
            "\n",
            "[5 rows x 162109 columns]\n"
          ]
        }
      ]
    },
    {
      "cell_type": "code",
      "source": [
        "# Converting pivot table to a sparse matrix\n",
        "movie_user_sparse_matrix = csr_matrix(movie_user_matrix.values)"
      ],
      "metadata": {
        "id": "TbuIKIj66RBA"
      },
      "execution_count": 16,
      "outputs": []
    },
    {
      "cell_type": "code",
      "source": [
        "# Initializing and train KNN model\n",
        "knn_model = NearestNeighbors(metric='cosine', algorithm='brute', n_neighbors=11)\n",
        "knn_model.fit(movie_user_sparse_matrix)\n",
        "print(\"KNN Model trained successfully.\")"
      ],
      "metadata": {
        "id": "7LkFayAJ6ZKn",
        "colab": {
          "base_uri": "https://localhost:8080/"
        },
        "outputId": "d0552293-34ce-466a-a891-ea5f6376c921"
      },
      "execution_count": 17,
      "outputs": [
        {
          "output_type": "stream",
          "name": "stdout",
          "text": [
            "KNN Model trained successfully.\n"
          ]
        }
      ]
    },
    {
      "cell_type": "code",
      "source": [
        "# KNN recommendation function\n",
        "def knn_recommendations(random_movie_index):\n",
        "    distances, indices = knn_model.kneighbors(movie_user_matrix.iloc[random_movie_index, :].values.reshape(1, -1), n_neighbors=11)\n",
        "    for i, (distance, idx) in enumerate(zip(distances.flatten(), indices.flatten())):\n",
        "        if i == 0:\n",
        "            print(f'Recommendation for the movie: {movie_user_matrix.index[idx]}')\n",
        "        else:\n",
        "            print(f'{i}: {movie_user_matrix.index[idx]} with a distance of {distance}')\n",
        "\n",
        "# Example of KNN recommendation\n",
        "random_movie_index = np.random.choice(movie_user_sparse_matrix.shape[0])\n",
        "knn_recommendations(random_movie_index)"
      ],
      "metadata": {
        "id": "Gz8aESlD6cJ8",
        "colab": {
          "base_uri": "https://localhost:8080/"
        },
        "outputId": "bce219a4-6ed2-4aa0-f757-4a61455ad8eb"
      },
      "execution_count": 18,
      "outputs": [
        {
          "output_type": "stream",
          "name": "stdout",
          "text": [
            "Recommendation for the movie: Pans Labyrinth Laberinto del fauno El 2006\n",
            "1: Children of Men 2006 with a distance of 0.5018557109340256\n",
            "2: Donnie Darko 2001 with a distance of 0.5062206873212357\n",
            "3: Eternal Sunshine of the Spotless Mind 2004 with a distance of 0.510537159834269\n",
            "4: V for Vendetta 2006 with a distance of 0.511195143489295\n",
            "5: No Country for Old Men 2007 with a distance of 0.5152410894698674\n",
            "6: Little Miss Sunshine 2006 with a distance of 0.5225744422027347\n",
            "7: Sin City 2005 with a distance of 0.5316591190316157\n",
            "8: WALLE 2008 with a distance of 0.532382315840166\n",
            "9: Prestige The 2006 with a distance of 0.5345969664668239\n",
            "10: Dark Knight The 2008 with a distance of 0.5352003355651167\n"
          ]
        }
      ]
    }
  ]
}